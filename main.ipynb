{
 "cells": [
  {
   "cell_type": "code",
   "execution_count": 1,
   "outputs": [],
   "source": [
    "from io import BytesIO\n",
    "from PIL import Image\n",
    "import requests\n",
    "import os\n",
    "\n",
    "dir_ = \"test_gallery\"\n",
    "if not os.path.exists(dir_):\n",
    "    os.mkdir(dir_)\n",
    "\n",
    "urls = ['choys_photo/cf3ae729-bece-4655-835f-74669640b2db_ShortsBelt_62_100.jpg',\n",
    " 'choys_photo/a3712eb0-1978-4b29-903c-4917de1b0d34_ShortsBelt_102_100.jpg',\n",
    " 'choys_photo/c59df614-879f-4c3d-87dc-5b848acae97b_ShortsBelt_103_100.jpg',\n",
    " 'choys_photo/0c9f210a-02b1-4e99-96f5-028d2df3d7f3_7H33948X0.jpg',\n",
    " 'choys_photo/600c1c9f-5bbd-4155-b5ba-5a032e34ba66_2421209076_102_100.jpg']\n",
    "\n",
    "def get_img(url, num):\n",
    "    url = \"http://storage.yandexcloud.net/choys-files-95a4e0626f4a/\"+url\n",
    "    return Image.open(BytesIO(requests.get(url).content)).save(f\"{dir_}/{num}.png\")\n",
    "\n",
    "_ = [get_img(url, i) for i, url in enumerate(urls)]"
   ],
   "metadata": {
    "collapsed": false,
    "ExecuteTime": {
     "end_time": "2024-04-02T07:01:20.468876700Z",
     "start_time": "2024-04-02T07:01:12.887695Z"
    }
   }
  },
  {
   "cell_type": "code",
   "execution_count": 2,
   "outputs": [
    {
     "data": {
      "text/plain": "  0%|          | 0/1 [00:00<?, ?it/s]",
      "application/vnd.jupyter.widget-view+json": {
       "version_major": 2,
       "version_minor": 0,
       "model_id": "59630f8cbac54377803fc111db6e125d"
      }
     },
     "metadata": {},
     "output_type": "display_data"
    },
    {
     "name": "stdout",
     "output_type": "stream",
     "text": [
      "Features saves to embeddings.pt\n"
     ]
    }
   ],
   "source": [
    "from ImageRetrieval import ImageRetrieval\n",
    "from dino import DINOv2\n",
    "import glob\n",
    "\n",
    "paths = glob.glob(f\"{dir_}/*\")\n",
    "ret = ImageRetrieval(DINOv2(head=\"head.ckpt\", device=\"cpu\"), paths)\n",
    "ret.get_embeddings(\"embeddings.pt\", batch_size=8, workers=0)\n",
    "# ret.load_embeddings(\"embeddings.pt\", n_components=50)"
   ],
   "metadata": {
    "collapsed": false,
    "ExecuteTime": {
     "end_time": "2024-04-02T07:01:25.548008200Z",
     "start_time": "2024-04-02T07:01:20.472863600Z"
    }
   }
  },
  {
   "cell_type": "code",
   "execution_count": 3,
   "outputs": [
    {
     "data": {
      "text/plain": "  0%|          | 0/1 [00:00<?, ?it/s]",
      "application/vnd.jupyter.widget-view+json": {
       "version_major": 2,
       "version_minor": 0,
       "model_id": "e07ae7b2cb144daabd56783a6728f871"
      }
     },
     "metadata": {},
     "output_type": "display_data"
    },
    {
     "data": {
      "text/plain": "torch.return_types.topk(\nvalues=tensor([[1.0000, 0.9187, 0.8886, 0.8704, 0.8528]]),\nindices=tensor([[0, 1, 2, 3, 4]]))"
     },
     "execution_count": 3,
     "metadata": {},
     "output_type": "execute_result"
    }
   ],
   "source": [
    "ret.query([paths[0]], topk=5)"
   ],
   "metadata": {
    "collapsed": false,
    "ExecuteTime": {
     "end_time": "2024-04-02T07:01:25.734386300Z",
     "start_time": "2024-04-02T07:01:25.549004400Z"
    }
   }
  }
 ],
 "metadata": {
  "kernelspec": {
   "display_name": "Python 3",
   "language": "python",
   "name": "python3"
  },
  "language_info": {
   "codemirror_mode": {
    "name": "ipython",
    "version": 2
   },
   "file_extension": ".py",
   "mimetype": "text/x-python",
   "name": "python",
   "nbconvert_exporter": "python",
   "pygments_lexer": "ipython2",
   "version": "2.7.6"
  }
 },
 "nbformat": 4,
 "nbformat_minor": 0
}
